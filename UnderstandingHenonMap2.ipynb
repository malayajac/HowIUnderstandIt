{
 "cells": [
  {
   "cell_type": "markdown",
   "metadata": {},
   "source": [
    "Generate Henon map TS, with any IC.\n",
    "<br>\n",
    "Here, given parameters $a$ and $b$, I want to abandon a trajectory that is going off to inf, and start generating the TS again. I have written a recursive function for this."
   ]
  },
  {
   "cell_type": "code",
   "execution_count": 1,
   "metadata": {},
   "outputs": [],
   "source": [
    "%reset -f"
   ]
  },
  {
   "cell_type": "code",
   "execution_count": 2,
   "metadata": {},
   "outputs": [],
   "source": [
    "import matplotlib.pyplot as plt\n",
    "import numpy as np"
   ]
  },
  {
   "cell_type": "code",
   "execution_count": 3,
   "metadata": {},
   "outputs": [],
   "source": [
    "# Using defn of Henon map given in the Wolf paper.\n",
    "def MyHenonFn(x, y, a, b):\n",
    "    xnew = 1 - a*x*x + y\n",
    "    ynew = b*x\n",
    "    return xnew, ynew"
   ]
  },
  {
   "cell_type": "code",
   "execution_count": 4,
   "metadata": {},
   "outputs": [],
   "source": [
    "# Recursive function that generates Henon map TS from random initial condition.\n",
    "def MyTSGen(TS_Len, a, b):\n",
    "    n = 0\n",
    "    xTS = [np.random.uniform(-2, 2)]\n",
    "    yTS = [np.random.uniform(-2, 2)]\n",
    "    xn, yn = xTS[-1], yTS[-1]\n",
    "    \n",
    "    while n<TS_Len-1:\n",
    "        n = n+1\n",
    "        xn, yn = MyHenonFn(xTS[n-1], yTS[n-1], a, b)\n",
    "        xTS.append(xn)\n",
    "        yTS.append(yn)\n",
    "        \n",
    "        if abs(xn)>2.5:\n",
    "            print (\"Let's restart!\")\n",
    "            xTS, yTS = MyTSGen(TS_Len, a, b)\n",
    "            break\n",
    "    \n",
    "    return(xTS, yTS)"
   ]
  },
  {
   "cell_type": "code",
   "execution_count": 5,
   "metadata": {},
   "outputs": [],
   "source": [
    "a = 1.4\n",
    "b = 0.3"
   ]
  },
  {
   "cell_type": "code",
   "execution_count": 6,
   "metadata": {},
   "outputs": [],
   "source": [
    "dis = 5000\n",
    "N = 2000"
   ]
  },
  {
   "cell_type": "code",
   "execution_count": 7,
   "metadata": {},
   "outputs": [
    {
     "name": "stdout",
     "output_type": "stream",
     "text": [
      "Let's restart!\n",
      "7000 7000\n"
     ]
    }
   ],
   "source": [
    "xTS, yTS = MyTSGen(dis+N, a, b)\n",
    "print (len(xTS), len(yTS))"
   ]
  },
  {
   "cell_type": "markdown",
   "metadata": {},
   "source": [
    "^Here, \"Let's restart!\" is printed whenever the trajectory is going off to inf and the TS generation process is started all over again."
   ]
  },
  {
   "cell_type": "code",
   "execution_count": 8,
   "metadata": {},
   "outputs": [
    {
     "data": {
      "image/png": "[encoded data removed]",
      "text/plain": [
       "<Figure size 432x288 with 1 Axes>"
      ]
     },
     "metadata": {},
     "output_type": "display_data"
    }
   ],
   "source": [
    "fig = plt.figure()\n",
    "ax = fig.add_axes([0, 0, 1, 1])\n",
    "#---\n",
    "ax.plot(xTS[dis:], yTS[dis:], \",\")\n",
    "#---\n",
    "ax.set_xlabel(\"x\")\n",
    "ax.set_ylabel(\"y\")\n",
    "#---\n",
    "ax.grid()\n",
    "plt.show()"
   ]
  },
  {
   "cell_type": "code",
   "execution_count": null,
   "metadata": {
    "collapsed": true
   },
   "outputs": [],
   "source": []
  }
 ],
 "metadata": {
  "kernelspec": {
   "display_name": "Python 3",
   "language": "python",
   "name": "python3"
  },
  "language_info": {
   "codemirror_mode": {
    "name": "ipython",
    "version": 3
   },
   "file_extension": ".py",
   "mimetype": "text/x-python",
   "name": "python",
   "nbconvert_exporter": "python",
   "pygments_lexer": "ipython3",
   "version": "3.6.4"
  }
 },
 "nbformat": 4,
 "nbformat_minor": 2
}
